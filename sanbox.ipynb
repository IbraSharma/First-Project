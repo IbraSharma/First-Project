{
 "cells": [
  {
   "cell_type": "code",
   "execution_count": 1,
   "metadata": {},
   "outputs": [],
   "source": [
    "import json\n",
    "import requests\n",
    "from random import randint"
   ]
  },
  {
   "cell_type": "code",
   "execution_count": 8,
   "metadata": {},
   "outputs": [
    {
     "name": "stdout",
     "output_type": "stream",
     "text": [
      "Enter your name: \n",
      "Please enter your food choice: \n",
      "[{'name': 'Libertine Porter', 'tagline': 'Dry-Hopped Aggressive Porter.', 'abv': 6.1, 'ibu': 45}, {'name': 'Rabiator', 'tagline': 'Imperial Wheat Beer', 'abv': 10.27, 'ibu': 26}, {'name': 'AB:14', 'tagline': 'Oak-Aged Imperial Weizenbock.', 'abv': 10, 'ibu': 30}, {'name': \"Bracken's Porter\", 'tagline': 'A Tribute To Our Favourite 4 Pawed Friend.', 'abv': 5, 'ibu': 50}, {'name': 'Alpha Pop', 'tagline': 'Hoppy Rye Pale Ale.', 'abv': 4.5, 'ibu': 30}, {'name': 'American Ale', 'tagline': 'Unleash the Yeast Series.', 'abv': 6.3, 'ibu': 55}, {'name': 'Hinterland', 'tagline': 'A Most Beguiling Brew.', 'abv': 9, 'ibu': 85}, {'name': 'Cap Dog (w/ Cap Brewery)', 'tagline': 'Black Cascara IPA.', 'abv': 9, 'ibu': 80}, {'name': 'Libertine Black Ale', 'tagline': 'The New Black. Roasty. Hoppy. Fruity.', 'abv': 7.2, 'ibu': 50}, {'name': 'Bashah (w/ Stone Brewing Co)', 'tagline': 'Black Belgian Double IPA.', 'abv': 9.7, 'ibu': 100}, {'name': 'Alice Porter', 'tagline': 'Enigmatic Dark Alchemy.', 'abv': 5.2, 'ibu': 55}, {'name': 'Shareholder Black IPA 2011', 'tagline': 'Shareholder Black IPA.', 'abv': 7.1, 'ibu': 80}, {'name': 'Barrel Aged Hinterland', 'tagline': 'A Most Beguiling Brew. Aged In Bourbon Casks.', 'abv': 9, 'ibu': 85}, {'name': 'Ace Of Simcoe', 'tagline': 'Single-Hopped Session IPA.', 'abv': 4.5, 'ibu': 40}, {'name': 'Beatnik', 'tagline': 'Imperial Red Ale', 'abv': 8, 'ibu': 60}, {'name': 'Small Batch: Dortmunder', 'tagline': 'Pale Lager.', 'abv': 4.9, 'ibu': 32}, {'name': 'Prototype Double IPA', 'tagline': 'American Hop Overload.', 'abv': 8.5, 'ibu': 60}, {'name': 'Nine To Five Wizard', 'tagline': 'India Pale Weizen.', 'abv': 7.5, 'ibu': 35}, {'name': 'AB:25', 'tagline': 'Bourbon Barrel-Aged Barley Wine.', 'abv': 13.3, 'ibu': 35}, {'name': 'Baltic Fleet', 'tagline': 'Baltic Porter.', 'abv': 7.2, 'ibu': 45}]\n",
      "Can we offer a recommendation (yes/no/abv): \n",
      "Enter abv number to collect beers (float x.0): \n",
      "Enter abv number to collect beers (float x.0): \n",
      "['Libertine Porter', 'Rabiator', 'AB:14', \"Bracken's Porter\", 'Alpha Pop', 'American Ale', 'Hinterland', 'Cap Dog (w/ Cap Brewery)', 'Libertine Black Ale', 'Bashah (w/ Stone Brewing Co)', 'Alice Porter', 'Shareholder Black IPA 2011', 'Barrel Aged Hinterland', 'Ace Of Simcoe', 'Beatnik', 'Small Batch: Dortmunder', 'Prototype Double IPA', 'Nine To Five Wizard', 'AB:25', 'Baltic Fleet']\n"
     ]
    }
   ],
   "source": [
    "def main():\n",
    "    # repeat this code block, until quit\n",
    "    while True:\n",
    "        # ask a user for input of name\n",
    "        print('Enter your name: ')\n",
    "        userName = input()\n",
    "        print('Please enter your food choice: ')\n",
    "        foodChoice = input()\n",
    "        url = f'https://api.punkapi.com/v2/beers?food={foodChoice}'\n",
    "        r = requests.get(url)\n",
    "        data = json.loads(r.text)\n",
    "        # List of dict \n",
    "        beer_list = []\n",
    "        for beer in data:\n",
    "            name = beer['name']\n",
    "            tagline = beer['tagline']\n",
    "            abv = beer['abv']\n",
    "            ibu = beer['ibu']\n",
    "\n",
    "            beer_item = {\n",
    "            'name': name,\n",
    "            'tagline': tagline,\n",
    "            'abv': abv,\n",
    "            'ibu': ibu\n",
    "            }\n",
    "            beer_list.append(beer_item)\n",
    "        print(beer_list)\n",
    "        \n",
    "        print('Can we offer a recommendation (yes/no/abv): ')\n",
    "        recommendation = input()\n",
    "        if recommendation == 'yes':\n",
    "            def recomendation_beer():\n",
    "                value = randint(0,len(beer_list))\n",
    "                try_this = beer_list[value]\n",
    "                try_name = try_this['name']\n",
    "                try_tagline = try_this['tagline']\n",
    "                try_abv = try_this['abv']\n",
    "                try_ibu = try_this['ibu']\n",
    "                random_beer = f'You should try {try_name}, {try_tagline}, {try_abv} %, {try_ibu}'\n",
    "                return random_beer\n",
    "            recomendation_beer()\n",
    "            print(recomendation_beer())\n",
    "            break\n",
    "        elif recommendation == 'abv':\n",
    "            def extract_beer():\n",
    "                print('Enter abv number to collect beers (float x.0): ')\n",
    "                N = float(input())\n",
    "                beers_over_selected_abv = [beer[\"name\"] for beer in beer_list if beer['abv'] >= N]\n",
    "                return beers_over_selected_abv\n",
    "            extract_beer()\n",
    "            print(extract_beer())\n",
    "            break\n",
    "        else:\n",
    "            print('Thank you')\n",
    "            break\n",
    "main()"
   ]
  },
  {
   "cell_type": "code",
   "execution_count": null,
   "metadata": {},
   "outputs": [],
   "source": [
    "# First step\n",
    "your_name = input('please type your name: ')\n",
    "food_choice = input('Please enter your food choice: ')\n",
    "url = f'https://api.punkapi.com/v2/beers?food={food_choice}'\n",
    "r = requests.get(url)\n",
    "data = json.loads(r.text)\n",
    "# List of dict \n",
    "beer_list = []\n",
    "for beer in data:\n",
    "    name = beer['name']\n",
    "    tagline = beer['tagline']\n",
    "    abv = beer['abv']\n",
    "    ibu = beer['ibu']\n",
    "\n",
    "    beer_item = {\n",
    "    'name': name,\n",
    "    'tagline': tagline,\n",
    "    'abv': abv,\n",
    "    'ibu': ibu\n",
    "    }\n",
    "    beer_list.append(beer_item)\n",
    "print(beer_list)"
   ]
  },
  {
   "cell_type": "code",
   "execution_count": 11,
   "metadata": {},
   "outputs": [],
   "source": [
    "# Second step\n",
    "#Gets a random Beer \n",
    "def recomendation_beer():\n",
    "    value = randint(0,len(beer_list))\n",
    "    try_this = beer_list[value]\n",
    "    try_name = try_this['name']\n",
    "    try_tagline = try_this['tagline']\n",
    "    try_abv = try_this['abv']\n",
    "    try_ibu = try_this['ibu']\n",
    "    random_beer = f'You should try {try_name}, {try_tagline}, {try_abv} %, {try_ibu}'\n",
    "    return random_beer"
   ]
  },
  {
   "cell_type": "code",
   "execution_count": 12,
   "metadata": {},
   "outputs": [
    {
     "data": {
      "text/plain": [
       "'You should try Chaos Theory, Predictably Random IPA., 7.1 %, 90'"
      ]
     },
     "execution_count": 12,
     "metadata": {},
     "output_type": "execute_result"
    }
   ],
   "source": [
    "recomendation_beer()"
   ]
  },
  {
   "cell_type": "code",
   "execution_count": 6,
   "metadata": {},
   "outputs": [],
   "source": [
    "# Third step\n",
    "# Collect beers within abv\n",
    "def extract_beer():\n",
    "    N = float(input(\"Enter abv number : \"))\n",
    "    beers_over_selected_abv = [beer[\"name\"] for beer in beer_list if beer['abv'] >= N]\n",
    "    return beers_over_selected_abv"
   ]
  },
  {
   "cell_type": "code",
   "execution_count": null,
   "metadata": {},
   "outputs": [],
   "source": [
    "extract_beer()"
   ]
  },
  {
   "cell_type": "code",
   "execution_count": 20,
   "metadata": {},
   "outputs": [],
   "source": [
    "# hello in beer name\n",
    "def hello_beer():\n",
    "    type_of_hello_name = []\n",
    "    for beer in beer_list:\n",
    "        if 'Hello' in beer['name']:\n",
    "         type_of_hello_name.append(beer)\n",
    "         return type_of_hello_name"
   ]
  },
  {
   "cell_type": "code",
   "execution_count": 21,
   "metadata": {},
   "outputs": [
    {
     "data": {
      "text/plain": [
       "[{'name': 'Hello My Name is Vladimir',\n",
       "  'tagline': 'Limonnik Infused Imperial IPA (Not for Gays).',\n",
       "  'abv': 8.2,\n",
       "  'ibu': 70}]"
      ]
     },
     "execution_count": 21,
     "metadata": {},
     "output_type": "execute_result"
    }
   ],
   "source": [
    "hello_beer()"
   ]
  },
  {
   "attachments": {},
   "cell_type": "markdown",
   "metadata": {},
   "source": [
    "My Module"
   ]
  },
  {
   "cell_type": "code",
   "execution_count": 5,
   "metadata": {},
   "outputs": [],
   "source": [
    "import os"
   ]
  },
  {
   "cell_type": "code",
   "execution_count": 6,
   "metadata": {},
   "outputs": [],
   "source": [
    "from package01 import list_utils"
   ]
  },
  {
   "cell_type": "code",
   "execution_count": 7,
   "metadata": {},
   "outputs": [
    {
     "data": {
      "text/plain": [
       "'You should try Movember, Moustache-Worthy Beer., 4.5 %, 50'"
      ]
     },
     "execution_count": 7,
     "metadata": {},
     "output_type": "execute_result"
    }
   ],
   "source": [
    "list_utils.recomendation_beer()"
   ]
  }
 ],
 "metadata": {
  "kernelspec": {
   "display_name": "base",
   "language": "python",
   "name": "python3"
  },
  "language_info": {
   "codemirror_mode": {
    "name": "ipython",
    "version": 3
   },
   "file_extension": ".py",
   "mimetype": "text/x-python",
   "name": "python",
   "nbconvert_exporter": "python",
   "pygments_lexer": "ipython3",
   "version": "3.9.13"
  },
  "orig_nbformat": 4,
  "vscode": {
   "interpreter": {
    "hash": "b9ce3e782dc9b25b6590d31a4c28a7bebe510ea4e9792678eca06b761cedffad"
   }
  }
 },
 "nbformat": 4,
 "nbformat_minor": 2
}
