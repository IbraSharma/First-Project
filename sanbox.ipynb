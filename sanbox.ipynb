{
 "cells": [
  {
   "cell_type": "code",
   "execution_count": 1,
   "metadata": {},
   "outputs": [],
   "source": [
    "import json\n",
    "import requests\n",
    "from random import randint"
   ]
  },
  {
   "cell_type": "code",
   "execution_count": null,
   "metadata": {},
   "outputs": [],
   "source": [
    "# First step\n",
    "your_name = input('please type your name: ')\n",
    "food_choice = input('Please enter your food choice: ')\n",
    "url = f'https://api.punkapi.com/v2/beers?food={food_choice}'\n",
    "r = requests.get(url)\n",
    "data = json.loads(r.text)\n",
    "# List of dict \n",
    "beer_list = []\n",
    "for beer in data:\n",
    "    name = beer['name']\n",
    "    tagline = beer['tagline']\n",
    "    abv = beer['abv']\n",
    "    ibu = beer['ibu']\n",
    "\n",
    "    beer_item = {\n",
    "    'name': name,\n",
    "    'tagline': tagline,\n",
    "    'abv': abv,\n",
    "    'ibu': ibu\n",
    "    }\n",
    "    beer_list.append(beer_item)\n",
    "print(beer_list)"
   ]
  },
  {
   "cell_type": "code",
   "execution_count": 11,
   "metadata": {},
   "outputs": [],
   "source": [
    "# Second step\n",
    "#Gets a random Beer \n",
    "def recomendation_beer():\n",
    "    value = randint(0,len(beer_list))\n",
    "    try_this = beer_list[value]\n",
    "    try_name = try_this['name']\n",
    "    try_tagline = try_this['tagline']\n",
    "    try_abv = try_this['abv']\n",
    "    try_ibu = try_this['ibu']\n",
    "    random_beer = f'You should try {try_name}, {try_tagline}, {try_abv} %, {try_ibu}'\n",
    "    return random_beer"
   ]
  },
  {
   "cell_type": "code",
   "execution_count": 12,
   "metadata": {},
   "outputs": [
    {
     "data": {
      "text/plain": [
       "'You should try Chaos Theory, Predictably Random IPA., 7.1 %, 90'"
      ]
     },
     "execution_count": 12,
     "metadata": {},
     "output_type": "execute_result"
    }
   ],
   "source": [
    "recomendation_beer()"
   ]
  },
  {
   "cell_type": "code",
   "execution_count": 16,
   "metadata": {},
   "outputs": [],
   "source": [
    "# Third step\n",
    "# Collect beers within abv\n",
    "def extract_beer():\n",
    "    N = float(input(\"Enter abv number : \"))\n",
    "    beers_over_selected_abv = [beer[\"name\"] for beer in beer_list if beer['abv'] >= N]\n",
    "    return beers_over_selected_abv"
   ]
  },
  {
   "cell_type": "code",
   "execution_count": 17,
   "metadata": {},
   "outputs": [
    {
     "data": {
      "text/plain": [
       "['Avery Brown Dredge',\n",
       " 'Bramling X',\n",
       " 'Rabiator',\n",
       " 'HBC 369',\n",
       " 'Dana - IPA Is Dead',\n",
       " 'AB:05',\n",
       " 'Zephyr',\n",
       " 'Hello My Name is Vladimir',\n",
       " 'Dog Wired (w/8 Wired)',\n",
       " 'AB:14',\n",
       " 'Lost Dog (w/Lost Abbey)',\n",
       " 'Sunk Punk',\n",
       " 'Hops Kill Nazis',\n",
       " 'Pumpkin King',\n",
       " 'Riptide',\n",
       " 'Clown King',\n",
       " 'Hello My Name Is Beastie',\n",
       " 'Chaos Theory',\n",
       " 'Motueka',\n",
       " 'Sorachi Bitter - B-Sides',\n",
       " 'Challenger',\n",
       " 'Chinook - IPA Is Dead',\n",
       " 'Hello My Name is Sonja (w/ Evil Twin)']"
      ]
     },
     "execution_count": 17,
     "metadata": {},
     "output_type": "execute_result"
    }
   ],
   "source": [
    "extract_beer()"
   ]
  },
  {
   "cell_type": "code",
   "execution_count": 20,
   "metadata": {},
   "outputs": [],
   "source": [
    "# hello in beer name\n",
    "def hello_beer():\n",
    "    type_of_hello_name = []\n",
    "    for beer in beer_list:\n",
    "        if 'Hello' in beer['name']:\n",
    "         type_of_hello_name.append(beer)\n",
    "         return type_of_hello_name"
   ]
  },
  {
   "cell_type": "code",
   "execution_count": 21,
   "metadata": {},
   "outputs": [
    {
     "data": {
      "text/plain": [
       "[{'name': 'Hello My Name is Vladimir',\n",
       "  'tagline': 'Limonnik Infused Imperial IPA (Not for Gays).',\n",
       "  'abv': 8.2,\n",
       "  'ibu': 70}]"
      ]
     },
     "execution_count": 21,
     "metadata": {},
     "output_type": "execute_result"
    }
   ],
   "source": [
    "hello_beer()"
   ]
  }
 ],
 "metadata": {
  "kernelspec": {
   "display_name": "base",
   "language": "python",
   "name": "python3"
  },
  "language_info": {
   "codemirror_mode": {
    "name": "ipython",
    "version": 3
   },
   "file_extension": ".py",
   "mimetype": "text/x-python",
   "name": "python",
   "nbconvert_exporter": "python",
   "pygments_lexer": "ipython3",
   "version": "3.9.13"
  },
  "orig_nbformat": 4,
  "vscode": {
   "interpreter": {
    "hash": "b9ce3e782dc9b25b6590d31a4c28a7bebe510ea4e9792678eca06b761cedffad"
   }
  }
 },
 "nbformat": 4,
 "nbformat_minor": 2
}
