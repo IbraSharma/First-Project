{
 "cells": [
  {
   "cell_type": "code",
   "execution_count": 1,
   "metadata": {},
   "outputs": [],
   "source": [
    "import json\n",
    "import requests\n",
    "from random import randint"
   ]
  },
  {
   "cell_type": "code",
   "execution_count": 5,
   "metadata": {},
   "outputs": [
    {
     "name": "stdout",
     "output_type": "stream",
     "text": [
      "Enter your name: \n",
      "Please enter your food choice: \n",
      "[{'name': 'Avery Brown Dredge', 'tagline': \"Bloggers' Imperial Pilsner.\", 'abv': 7.2, 'ibu': 59}, {'name': 'Fake Lager', 'tagline': 'Bohemian Pilsner.', 'abv': 4.7, 'ibu': 40}, {'name': 'Bramling X', 'tagline': 'Single Hop IPA Series - 2011.', 'abv': 7.5, 'ibu': 75}, {'name': 'Rabiator', 'tagline': 'Imperial Wheat Beer', 'abv': 10.27, 'ibu': 26}, {'name': 'HBC 369', 'tagline': 'Single Hop India Pale Ale – 2012.', 'abv': 6.7, 'ibu': 67}, {'name': 'Dana - IPA Is Dead', 'tagline': 'Single Hop India Pale Ale.', 'abv': 6.7, 'ibu': 70}, {'name': 'AB:05', 'tagline': 'Belgian Imperial Stout.', 'abv': 12.5, 'ibu': 40}, {'name': 'Zephyr', 'tagline': 'There’s A Storm Brewing.', 'abv': 12.5, 'ibu': 125}, {'name': 'Hello My Name is Vladimir', 'tagline': 'Limonnik Infused Imperial IPA (Not for Gays).', 'abv': 8.2, 'ibu': 70}, {'name': 'Dog Wired (w/8 Wired)', 'tagline': 'New Zealand Imperial Pilsner.', 'abv': 7.1, 'ibu': 65}, {'name': 'AB:14', 'tagline': 'Oak-Aged Imperial Weizenbock.', 'abv': 10, 'ibu': 30}, {'name': 'Lost Dog (w/Lost Abbey)', 'tagline': 'Rum-Aged Imperial Porter - Lost Abbey Collab.', 'abv': 10, 'ibu': 35}, {'name': 'Sunk Punk', 'tagline': 'Ocean Fermented Lager.', 'abv': 7.1, 'ibu': 68}, {'name': 'Hops Kill Nazis', 'tagline': 'Imperial Red Ale.', 'abv': 7.6, 'ibu': 70}, {'name': 'Pumpkin King', 'tagline': 'Spicy Citrus Pumpkin Ale.', 'abv': 5.4, 'ibu': 20}, {'name': 'Riptide', 'tagline': 'Twisted Merciless Stout.', 'abv': 8, 'ibu': 45}, {'name': 'Clown King', 'tagline': 'US Style Barley Wine.', 'abv': 12, 'ibu': 85}, {'name': 'Hello My Name Is Beastie', 'tagline': 'Double IPA Brewed with Brambles.', 'abv': 8.2, 'ibu': 42}, {'name': 'Chaos Theory', 'tagline': 'Predictably Random IPA.', 'abv': 7.1, 'ibu': 90}, {'name': 'Motueka', 'tagline': 'Single Hop India Pale Ale – 2012.', 'abv': 6.7, 'ibu': 67}, {'name': 'Sorachi Bitter - B-Sides', 'tagline': 'Sorachi Ace Bitter.', 'abv': 6.3, 'ibu': 130}, {'name': 'Challenger', 'tagline': 'Single Hop India Pale Ale – 2012.', 'abv': 6.7, 'ibu': 67}, {'name': 'Chinook - IPA Is Dead', 'tagline': 'Single Hop India Pale Ale.', 'abv': 7.2, 'ibu': 100}, {'name': 'Konnichiwa Kitsune', 'tagline': 'Hello My Name Is Yuzu.', 'abv': 4.4, 'ibu': 70}, {'name': 'Hello My Name is Sonja (w/ Evil Twin)', 'tagline': 'Blueberry Double IPA.', 'abv': 8.3, 'ibu': 70}]\n",
      "Can we offer a recommendation (yes/no/abv): \n",
      "You should try Chaos Theory, Predictably Random IPA., 7.1 %, 90\n"
     ]
    }
   ],
   "source": [
    "def main():\n",
    "    # repeat this code block, until quit\n",
    "    while True:\n",
    "        # ask a user for input of name\n",
    "        print('Enter your name: ')\n",
    "        userName = input()\n",
    "        print('Please enter your food choice: ')\n",
    "        foodChoice = input()\n",
    "        url = f'https://api.punkapi.com/v2/beers?food={foodChoice}'\n",
    "        r = requests.get(url)\n",
    "        data = json.loads(r.text)\n",
    "        # List of dict \n",
    "        beer_list = []\n",
    "        for beer in data:\n",
    "            name = beer['name']\n",
    "            tagline = beer['tagline']\n",
    "            abv = beer['abv']\n",
    "            ibu = beer['ibu']\n",
    "\n",
    "            beer_item = {\n",
    "            'name': name,\n",
    "            'tagline': tagline,\n",
    "            'abv': abv,\n",
    "            'ibu': ibu\n",
    "            }\n",
    "            beer_list.append(beer_item)\n",
    "        print(beer_list)\n",
    "        \n",
    "        print('Can we offer a recommendation (yes/no/abv): ')\n",
    "        recommendation = input()\n",
    "        if recommendation == 'yes':\n",
    "            def recomendation_beer():\n",
    "                value = randint(0,len(beer_list))\n",
    "                try_this = beer_list[value]\n",
    "                try_name = try_this['name']\n",
    "                try_tagline = try_this['tagline']\n",
    "                try_abv = try_this['abv']\n",
    "                try_ibu = try_this['ibu']\n",
    "                random_beer = f'You should try {try_name}, {try_tagline}, {try_abv} %, {try_ibu}'\n",
    "                return random_beer\n",
    "            recomendation_beer()\n",
    "            print(recomendation_beer())\n",
    "            break\n",
    "        elif recommendation == 'abv':\n",
    "            def extract_beer():\n",
    "                print('Enter abv number to collect beers (float x.0): ')\n",
    "                N = float(input())\n",
    "                beers_over_selected_abv = [beer[\"name\"] for beer in beer_list if beer['abv'] >= N]\n",
    "                return beers_over_selected_abv\n",
    "            extract_beer()\n",
    "            print(extract_beer())\n",
    "        else:\n",
    "            print('Thank you')\n",
    "            break\n",
    "main()"
   ]
  },
  {
   "cell_type": "code",
   "execution_count": null,
   "metadata": {},
   "outputs": [],
   "source": [
    "# First step\n",
    "your_name = input('please type your name: ')\n",
    "food_choice = input('Please enter your food choice: ')\n",
    "url = f'https://api.punkapi.com/v2/beers?food={food_choice}'\n",
    "r = requests.get(url)\n",
    "data = json.loads(r.text)\n",
    "# List of dict \n",
    "beer_list = []\n",
    "for beer in data:\n",
    "    name = beer['name']\n",
    "    tagline = beer['tagline']\n",
    "    abv = beer['abv']\n",
    "    ibu = beer['ibu']\n",
    "\n",
    "    beer_item = {\n",
    "    'name': name,\n",
    "    'tagline': tagline,\n",
    "    'abv': abv,\n",
    "    'ibu': ibu\n",
    "    }\n",
    "    beer_list.append(beer_item)\n",
    "print(beer_list)"
   ]
  },
  {
   "cell_type": "code",
   "execution_count": 11,
   "metadata": {},
   "outputs": [],
   "source": [
    "# Second step\n",
    "#Gets a random Beer \n",
    "def recomendation_beer():\n",
    "    value = randint(0,len(beer_list))\n",
    "    try_this = beer_list[value]\n",
    "    try_name = try_this['name']\n",
    "    try_tagline = try_this['tagline']\n",
    "    try_abv = try_this['abv']\n",
    "    try_ibu = try_this['ibu']\n",
    "    random_beer = f'You should try {try_name}, {try_tagline}, {try_abv} %, {try_ibu}'\n",
    "    return random_beer"
   ]
  },
  {
   "cell_type": "code",
   "execution_count": 12,
   "metadata": {},
   "outputs": [
    {
     "data": {
      "text/plain": [
       "'You should try Chaos Theory, Predictably Random IPA., 7.1 %, 90'"
      ]
     },
     "execution_count": 12,
     "metadata": {},
     "output_type": "execute_result"
    }
   ],
   "source": [
    "recomendation_beer()"
   ]
  },
  {
   "cell_type": "code",
   "execution_count": 16,
   "metadata": {},
   "outputs": [],
   "source": [
    "# Third step\n",
    "# Collect beers within abv\n",
    "def extract_beer():\n",
    "    N = float(input(\"Enter abv number : \"))\n",
    "    beers_over_selected_abv = [beer[\"name\"] for beer in beer_list if beer['abv'] >= N]\n",
    "    return beers_over_selected_abv"
   ]
  },
  {
   "cell_type": "code",
   "execution_count": 17,
   "metadata": {},
   "outputs": [
    {
     "data": {
      "text/plain": [
       "['Avery Brown Dredge',\n",
       " 'Bramling X',\n",
       " 'Rabiator',\n",
       " 'HBC 369',\n",
       " 'Dana - IPA Is Dead',\n",
       " 'AB:05',\n",
       " 'Zephyr',\n",
       " 'Hello My Name is Vladimir',\n",
       " 'Dog Wired (w/8 Wired)',\n",
       " 'AB:14',\n",
       " 'Lost Dog (w/Lost Abbey)',\n",
       " 'Sunk Punk',\n",
       " 'Hops Kill Nazis',\n",
       " 'Pumpkin King',\n",
       " 'Riptide',\n",
       " 'Clown King',\n",
       " 'Hello My Name Is Beastie',\n",
       " 'Chaos Theory',\n",
       " 'Motueka',\n",
       " 'Sorachi Bitter - B-Sides',\n",
       " 'Challenger',\n",
       " 'Chinook - IPA Is Dead',\n",
       " 'Hello My Name is Sonja (w/ Evil Twin)']"
      ]
     },
     "execution_count": 17,
     "metadata": {},
     "output_type": "execute_result"
    }
   ],
   "source": [
    "extract_beer()"
   ]
  },
  {
   "cell_type": "code",
   "execution_count": 20,
   "metadata": {},
   "outputs": [],
   "source": [
    "# hello in beer name\n",
    "def hello_beer():\n",
    "    type_of_hello_name = []\n",
    "    for beer in beer_list:\n",
    "        if 'Hello' in beer['name']:\n",
    "         type_of_hello_name.append(beer)\n",
    "         return type_of_hello_name"
   ]
  },
  {
   "cell_type": "code",
   "execution_count": 21,
   "metadata": {},
   "outputs": [
    {
     "data": {
      "text/plain": [
       "[{'name': 'Hello My Name is Vladimir',\n",
       "  'tagline': 'Limonnik Infused Imperial IPA (Not for Gays).',\n",
       "  'abv': 8.2,\n",
       "  'ibu': 70}]"
      ]
     },
     "execution_count": 21,
     "metadata": {},
     "output_type": "execute_result"
    }
   ],
   "source": [
    "hello_beer()"
   ]
  },
  {
   "attachments": {},
   "cell_type": "markdown",
   "metadata": {},
   "source": [
    "My Module"
   ]
  },
  {
   "cell_type": "code",
   "execution_count": 5,
   "metadata": {},
   "outputs": [],
   "source": [
    "import os"
   ]
  },
  {
   "cell_type": "code",
   "execution_count": 6,
   "metadata": {},
   "outputs": [],
   "source": [
    "from package01 import list_utils"
   ]
  },
  {
   "cell_type": "code",
   "execution_count": 7,
   "metadata": {},
   "outputs": [
    {
     "data": {
      "text/plain": [
       "'You should try Movember, Moustache-Worthy Beer., 4.5 %, 50'"
      ]
     },
     "execution_count": 7,
     "metadata": {},
     "output_type": "execute_result"
    }
   ],
   "source": [
    "list_utils.recomendation_beer()"
   ]
  }
 ],
 "metadata": {
  "kernelspec": {
   "display_name": "base",
   "language": "python",
   "name": "python3"
  },
  "language_info": {
   "codemirror_mode": {
    "name": "ipython",
    "version": 3
   },
   "file_extension": ".py",
   "mimetype": "text/x-python",
   "name": "python",
   "nbconvert_exporter": "python",
   "pygments_lexer": "ipython3",
   "version": "3.9.13"
  },
  "orig_nbformat": 4,
  "vscode": {
   "interpreter": {
    "hash": "b9ce3e782dc9b25b6590d31a4c28a7bebe510ea4e9792678eca06b761cedffad"
   }
  }
 },
 "nbformat": 4,
 "nbformat_minor": 2
}
