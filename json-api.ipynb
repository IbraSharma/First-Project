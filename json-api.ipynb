{
 "cells": [
  {
   "cell_type": "code",
   "execution_count": 1,
   "metadata": {},
   "outputs": [],
   "source": [
    "import json\n",
    "import requests"
   ]
  },
  {
   "attachments": {},
   "cell_type": "markdown",
   "metadata": {},
   "source": [
    "> In this code we will pick up Json data from https://api.punkapi.com/v2/beers \n",
    "\n",
    "> build a tool that pairs beer with food (burger / pie / Pizza/ Sausage..)\n",
    "\n",
    "> Then we will allow random beer"
   ]
  },
  {
   "attachments": {},
   "cell_type": "markdown",
   "metadata": {},
   "source": [
    "![Alt text](BeerPairingFood.png)"
   ]
  },
  {
   "cell_type": "code",
   "execution_count": 33,
   "metadata": {},
   "outputs": [],
   "source": [
    "food_choice = input('Please enter your dinner choice: ')"
   ]
  },
  {
   "cell_type": "code",
   "execution_count": 34,
   "metadata": {},
   "outputs": [],
   "source": [
    "url = f'https://api.punkapi.com/v2/beers?food={food_choice}'"
   ]
  },
  {
   "cell_type": "code",
   "execution_count": 35,
   "metadata": {},
   "outputs": [],
   "source": [
    "r = requests.get(url)\n",
    "data = json.loads(r.text) # return list"
   ]
  },
  {
   "cell_type": "code",
   "execution_count": 36,
   "metadata": {},
   "outputs": [
    {
     "name": "stdout",
     "output_type": "stream",
     "text": [
      "25\n"
     ]
    }
   ],
   "source": [
    "# Number of responses\n",
    "print(len(data))"
   ]
  },
  {
   "cell_type": "code",
   "execution_count": 37,
   "metadata": {},
   "outputs": [
    {
     "data": {
      "text/plain": [
       "list"
      ]
     },
     "execution_count": 37,
     "metadata": {},
     "output_type": "execute_result"
    }
   ],
   "source": [
    "type(data)"
   ]
  },
  {
   "cell_type": "code",
   "execution_count": 38,
   "metadata": {},
   "outputs": [
    {
     "data": {
      "text/plain": [
       "dict"
      ]
     },
     "execution_count": 38,
     "metadata": {},
     "output_type": "execute_result"
    }
   ],
   "source": [
    "type(data[0])"
   ]
  },
  {
   "attachments": {},
   "cell_type": "markdown",
   "metadata": {},
   "source": [
    "Intresting columns needed:\n",
    "\n",
    "name : Beer name \n",
    "\n",
    "tagline : Beer Slogans\n",
    "\n",
    "abv : Alcohol by Volume\n",
    "\n",
    "ibu : International Bitterness Units"
   ]
  },
  {
   "cell_type": "code",
   "execution_count": 39,
   "metadata": {},
   "outputs": [
    {
     "name": "stdout",
     "output_type": "stream",
     "text": [
      "[{'name': 'Avery Brown Dredge', 'tagline': \"Bloggers' Imperial Pilsner.\", 'abv': 7.2, 'ibu': 59}, {'name': 'Fake Lager', 'tagline': 'Bohemian Pilsner.', 'abv': 4.7, 'ibu': 40}, {'name': 'Bramling X', 'tagline': 'Single Hop IPA Series - 2011.', 'abv': 7.5, 'ibu': 75}, {'name': 'Rabiator', 'tagline': 'Imperial Wheat Beer', 'abv': 10.27, 'ibu': 26}, {'name': 'HBC 369', 'tagline': 'Single Hop India Pale Ale – 2012.', 'abv': 6.7, 'ibu': 67}, {'name': 'Dana - IPA Is Dead', 'tagline': 'Single Hop India Pale Ale.', 'abv': 6.7, 'ibu': 70}, {'name': 'AB:05', 'tagline': 'Belgian Imperial Stout.', 'abv': 12.5, 'ibu': 40}, {'name': 'Zephyr', 'tagline': 'There’s A Storm Brewing.', 'abv': 12.5, 'ibu': 125}, {'name': 'Hello My Name is Vladimir', 'tagline': 'Limonnik Infused Imperial IPA (Not for Gays).', 'abv': 8.2, 'ibu': 70}, {'name': 'Dog Wired (w/8 Wired)', 'tagline': 'New Zealand Imperial Pilsner.', 'abv': 7.1, 'ibu': 65}, {'name': 'AB:14', 'tagline': 'Oak-Aged Imperial Weizenbock.', 'abv': 10, 'ibu': 30}, {'name': 'Lost Dog (w/Lost Abbey)', 'tagline': 'Rum-Aged Imperial Porter - Lost Abbey Collab.', 'abv': 10, 'ibu': 35}, {'name': 'Sunk Punk', 'tagline': 'Ocean Fermented Lager.', 'abv': 7.1, 'ibu': 68}, {'name': 'Hops Kill Nazis', 'tagline': 'Imperial Red Ale.', 'abv': 7.6, 'ibu': 70}, {'name': 'Pumpkin King', 'tagline': 'Spicy Citrus Pumpkin Ale.', 'abv': 5.4, 'ibu': 20}, {'name': 'Riptide', 'tagline': 'Twisted Merciless Stout.', 'abv': 8, 'ibu': 45}, {'name': 'Clown King', 'tagline': 'US Style Barley Wine.', 'abv': 12, 'ibu': 85}, {'name': 'Hello My Name Is Beastie', 'tagline': 'Double IPA Brewed with Brambles.', 'abv': 8.2, 'ibu': 42}, {'name': 'Chaos Theory', 'tagline': 'Predictably Random IPA.', 'abv': 7.1, 'ibu': 90}, {'name': 'Motueka', 'tagline': 'Single Hop India Pale Ale – 2012.', 'abv': 6.7, 'ibu': 67}, {'name': 'Sorachi Bitter - B-Sides', 'tagline': 'Sorachi Ace Bitter.', 'abv': 6.3, 'ibu': 130}, {'name': 'Challenger', 'tagline': 'Single Hop India Pale Ale – 2012.', 'abv': 6.7, 'ibu': 67}, {'name': 'Chinook - IPA Is Dead', 'tagline': 'Single Hop India Pale Ale.', 'abv': 7.2, 'ibu': 100}, {'name': 'Konnichiwa Kitsune', 'tagline': 'Hello My Name Is Yuzu.', 'abv': 4.4, 'ibu': 70}, {'name': 'Hello My Name is Sonja (w/ Evil Twin)', 'tagline': 'Blueberry Double IPA.', 'abv': 8.3, 'ibu': 70}]\n"
     ]
    }
   ],
   "source": [
    "# List of dict \n",
    "beer_list = []\n",
    "for beer in data:\n",
    "    name = beer['name']\n",
    "    tagline = beer['tagline']\n",
    "    abv = beer['abv']\n",
    "    ibu = beer['ibu']\n",
    "\n",
    "    beer_item = {\n",
    "    'name': name,\n",
    "    'tagline': tagline,\n",
    "    'abv': abv,\n",
    "    'ibu': ibu\n",
    "    }\n",
    "    beer_list.append(beer_item)\n",
    "print(beer_list)"
   ]
  },
  {
   "cell_type": "code",
   "execution_count": 40,
   "metadata": {},
   "outputs": [],
   "source": [
    "from random import randint"
   ]
  },
  {
   "cell_type": "code",
   "execution_count": 41,
   "metadata": {},
   "outputs": [
    {
     "name": "stdout",
     "output_type": "stream",
     "text": [
      "You should try Hello My Name is Sonja (w/ Evil Twin), Blueberry Double IPA., 8.3 %\n"
     ]
    }
   ],
   "source": [
    "# Pick up random beer\n",
    "value = randint(0,len(beer_list))\n",
    "\n",
    "try_this = beer_list[value]\n",
    "\n",
    "try_name = try_this['name']\n",
    "try_tagline = try_this['tagline']\n",
    "try_abv = try_this['abv']\n",
    "\n",
    "print(f'You should try {try_name}, {try_tagline}, {try_abv} %')"
   ]
  },
  {
   "cell_type": "code",
   "execution_count": 42,
   "metadata": {},
   "outputs": [
    {
     "name": "stdout",
     "output_type": "stream",
     "text": [
      "{'name': 'Avery Brown Dredge', 'tagline': \"Bloggers' Imperial Pilsner.\", 'abv': 7.2, 'ibu': 59}\n"
     ]
    }
   ],
   "source": [
    "# we have list of dict\n",
    "print(beer_list[0])"
   ]
  },
  {
   "cell_type": "code",
   "execution_count": 10,
   "metadata": {},
   "outputs": [
    {
     "data": {
      "text/plain": [
       "25"
      ]
     },
     "execution_count": 10,
     "metadata": {},
     "output_type": "execute_result"
    }
   ],
   "source": [
    "len(beer_list)"
   ]
  },
  {
   "cell_type": "code",
   "execution_count": 11,
   "metadata": {},
   "outputs": [
    {
     "data": {
      "text/plain": [
       "10.27"
      ]
     },
     "execution_count": 11,
     "metadata": {},
     "output_type": "execute_result"
    }
   ],
   "source": [
    "beer_list[3]['abv']"
   ]
  },
  {
   "cell_type": "code",
   "execution_count": 12,
   "metadata": {},
   "outputs": [],
   "source": [
    "# extract name\n",
    "def extract_name(beer):\n",
    "    name = beer['name']\n",
    "    return name"
   ]
  },
  {
   "cell_type": "code",
   "execution_count": 14,
   "metadata": {},
   "outputs": [
    {
     "data": {
      "text/plain": [
       "'Avery Brown Dredge'"
      ]
     },
     "execution_count": 14,
     "metadata": {},
     "output_type": "execute_result"
    }
   ],
   "source": [
    "extract_name(beer_list[0])"
   ]
  },
  {
   "cell_type": "code",
   "execution_count": 15,
   "metadata": {},
   "outputs": [],
   "source": [
    "# extract abv\n",
    "def extract_abv(beer):\n",
    "    abv_name = beer['abv']\n",
    "    return abv_name"
   ]
  },
  {
   "cell_type": "code",
   "execution_count": 16,
   "metadata": {},
   "outputs": [
    {
     "data": {
      "text/plain": [
       "4.7"
      ]
     },
     "execution_count": 16,
     "metadata": {},
     "output_type": "execute_result"
    }
   ],
   "source": [
    "extract_abv(beer_list[1])"
   ]
  },
  {
   "cell_type": "code",
   "execution_count": 17,
   "metadata": {},
   "outputs": [
    {
     "name": "stdout",
     "output_type": "stream",
     "text": [
      "{'name': 'AB:05', 'tagline': 'Belgian Imperial Stout.', 'abv': 12.5, 'ibu': 40} {'name': 'Konnichiwa Kitsune', 'tagline': 'Hello My Name Is Yuzu.', 'abv': 4.4, 'ibu': 70}\n"
     ]
    }
   ],
   "source": [
    "# Max/Min abv using lambda\n",
    "maxabv = max(beer_list, key=lambda x:x['abv'])\n",
    "minabv = min(beer_list, key=lambda x:x['abv'])\n",
    "print(maxabv, minabv)"
   ]
  },
  {
   "cell_type": "code",
   "execution_count": 20,
   "metadata": {},
   "outputs": [
    {
     "name": "stdout",
     "output_type": "stream",
     "text": [
      "lowest abv is:  4.4\n",
      "highest abv is:  12.5\n"
     ]
    }
   ],
   "source": [
    "# List comprehension find lowest and highest abv\n",
    "seq = [x['abv'] for x in beer_list]\n",
    "print('lowest abv is: ', min(seq))\n",
    "print('highest abv is: ', max(seq))"
   ]
  },
  {
   "cell_type": "code",
   "execution_count": 23,
   "metadata": {},
   "outputs": [
    {
     "data": {
      "text/plain": [
       "6"
      ]
     },
     "execution_count": 23,
     "metadata": {},
     "output_type": "execute_result"
    }
   ],
   "source": [
    "# how many beers with adv > 10 % adv \n",
    "len([x['abv'] for x in beer_list if x['abv'] >= 10.0])"
   ]
  },
  {
   "cell_type": "code",
   "execution_count": 44,
   "metadata": {},
   "outputs": [
    {
     "data": {
      "text/plain": [
       "[10.27, 12.5, 12.5, 10, 10, 12]"
      ]
     },
     "execution_count": 44,
     "metadata": {},
     "output_type": "execute_result"
    }
   ],
   "source": [
    "# Return abv higher than 10% \n",
    "def extract_abv(beer):\n",
    "    abv_name = beer['abv']\n",
    "    return abv_name\n",
    "\n",
    "def high_abv(beer):\n",
    "    high_abv = [x['abv'] for x in beer_list if x['abv'] >= 10.0]\n",
    "    return high_abv\n",
    "\n",
    "high_abv(beer=beer_list[3]['abv'])"
   ]
  },
  {
   "cell_type": "code",
   "execution_count": 48,
   "metadata": {},
   "outputs": [],
   "source": [
    "# beer collections\n",
    "def extract_name(beer):\n",
    "    name = beer['name']\n",
    "    return name\n",
    "\n",
    "def extract_abv(beer):\n",
    "    abv_name = beer['abv']\n",
    "    return abv_name\n",
    "\n",
    "def lowest_abv(beer):\n",
    "    lowest_adv = min(seq)\n",
    "    return lowest_adv\n",
    "\n",
    "\n",
    "def collect_beers(beer):\n",
    "    out= {\n",
    "        \"name\": extract_name(beer),\n",
    "        \"abv\": extract_abv(beer),\n",
    "        \"lowest_abv\": lowest_abv(beer)\n",
    "        }\n",
    "    return out"
   ]
  },
  {
   "cell_type": "code",
   "execution_count": 49,
   "metadata": {},
   "outputs": [
    {
     "data": {
      "text/plain": [
       "{'name': 'Rabiator', 'abv': 10.27, 'lowest_abv': 4.4}"
      ]
     },
     "execution_count": 49,
     "metadata": {},
     "output_type": "execute_result"
    }
   ],
   "source": [
    "collect_beers(beer=beer_list[3])"
   ]
  },
  {
   "cell_type": "code",
   "execution_count": 52,
   "metadata": {},
   "outputs": [
    {
     "data": {
      "text/plain": [
       "[{'name': 'Konnichiwa Kitsune',\n",
       "  'tagline': 'Hello My Name Is Yuzu.',\n",
       "  'abv': 4.4,\n",
       "  'ibu': 70},\n",
       " {'name': 'Fake Lager', 'tagline': 'Bohemian Pilsner.', 'abv': 4.7, 'ibu': 40},\n",
       " {'name': 'Pumpkin King',\n",
       "  'tagline': 'Spicy Citrus Pumpkin Ale.',\n",
       "  'abv': 5.4,\n",
       "  'ibu': 20},\n",
       " {'name': 'Sorachi Bitter - B-Sides',\n",
       "  'tagline': 'Sorachi Ace Bitter.',\n",
       "  'abv': 6.3,\n",
       "  'ibu': 130},\n",
       " {'name': 'HBC 369',\n",
       "  'tagline': 'Single Hop India Pale Ale – 2012.',\n",
       "  'abv': 6.7,\n",
       "  'ibu': 67},\n",
       " {'name': 'Dana - IPA Is Dead',\n",
       "  'tagline': 'Single Hop India Pale Ale.',\n",
       "  'abv': 6.7,\n",
       "  'ibu': 70},\n",
       " {'name': 'Motueka',\n",
       "  'tagline': 'Single Hop India Pale Ale – 2012.',\n",
       "  'abv': 6.7,\n",
       "  'ibu': 67},\n",
       " {'name': 'Challenger',\n",
       "  'tagline': 'Single Hop India Pale Ale – 2012.',\n",
       "  'abv': 6.7,\n",
       "  'ibu': 67},\n",
       " {'name': 'Dog Wired (w/8 Wired)',\n",
       "  'tagline': 'New Zealand Imperial Pilsner.',\n",
       "  'abv': 7.1,\n",
       "  'ibu': 65},\n",
       " {'name': 'Sunk Punk',\n",
       "  'tagline': 'Ocean Fermented Lager.',\n",
       "  'abv': 7.1,\n",
       "  'ibu': 68},\n",
       " {'name': 'Chaos Theory',\n",
       "  'tagline': 'Predictably Random IPA.',\n",
       "  'abv': 7.1,\n",
       "  'ibu': 90},\n",
       " {'name': 'Avery Brown Dredge',\n",
       "  'tagline': \"Bloggers' Imperial Pilsner.\",\n",
       "  'abv': 7.2,\n",
       "  'ibu': 59},\n",
       " {'name': 'Chinook - IPA Is Dead',\n",
       "  'tagline': 'Single Hop India Pale Ale.',\n",
       "  'abv': 7.2,\n",
       "  'ibu': 100},\n",
       " {'name': 'Bramling X',\n",
       "  'tagline': 'Single Hop IPA Series - 2011.',\n",
       "  'abv': 7.5,\n",
       "  'ibu': 75},\n",
       " {'name': 'Hops Kill Nazis',\n",
       "  'tagline': 'Imperial Red Ale.',\n",
       "  'abv': 7.6,\n",
       "  'ibu': 70},\n",
       " {'name': 'Riptide',\n",
       "  'tagline': 'Twisted Merciless Stout.',\n",
       "  'abv': 8,\n",
       "  'ibu': 45},\n",
       " {'name': 'Hello My Name is Vladimir',\n",
       "  'tagline': 'Limonnik Infused Imperial IPA (Not for Gays).',\n",
       "  'abv': 8.2,\n",
       "  'ibu': 70},\n",
       " {'name': 'Hello My Name Is Beastie',\n",
       "  'tagline': 'Double IPA Brewed with Brambles.',\n",
       "  'abv': 8.2,\n",
       "  'ibu': 42},\n",
       " {'name': 'Hello My Name is Sonja (w/ Evil Twin)',\n",
       "  'tagline': 'Blueberry Double IPA.',\n",
       "  'abv': 8.3,\n",
       "  'ibu': 70},\n",
       " {'name': 'AB:14',\n",
       "  'tagline': 'Oak-Aged Imperial Weizenbock.',\n",
       "  'abv': 10,\n",
       "  'ibu': 30},\n",
       " {'name': 'Lost Dog (w/Lost Abbey)',\n",
       "  'tagline': 'Rum-Aged Imperial Porter - Lost Abbey Collab.',\n",
       "  'abv': 10,\n",
       "  'ibu': 35},\n",
       " {'name': 'Rabiator',\n",
       "  'tagline': 'Imperial Wheat Beer',\n",
       "  'abv': 10.27,\n",
       "  'ibu': 26},\n",
       " {'name': 'Clown King',\n",
       "  'tagline': 'US Style Barley Wine.',\n",
       "  'abv': 12,\n",
       "  'ibu': 85},\n",
       " {'name': 'AB:05',\n",
       "  'tagline': 'Belgian Imperial Stout.',\n",
       "  'abv': 12.5,\n",
       "  'ibu': 40},\n",
       " {'name': 'Zephyr',\n",
       "  'tagline': 'There’s A Storm Brewing.',\n",
       "  'abv': 12.5,\n",
       "  'ibu': 125}]"
      ]
     },
     "execution_count": 52,
     "metadata": {},
     "output_type": "execute_result"
    }
   ],
   "source": [
    "# sort beers by adv from low to high ascending\n",
    "from operator import itemgetter\n",
    "beer_list.sort(key=itemgetter('abv'))\n",
    "beer_list"
   ]
  },
  {
   "cell_type": "code",
   "execution_count": 53,
   "metadata": {},
   "outputs": [
    {
     "data": {
      "text/plain": [
       "[{'name': 'AB:05',\n",
       "  'tagline': 'Belgian Imperial Stout.',\n",
       "  'abv': 12.5,\n",
       "  'ibu': 40},\n",
       " {'name': 'Zephyr',\n",
       "  'tagline': 'There’s A Storm Brewing.',\n",
       "  'abv': 12.5,\n",
       "  'ibu': 125},\n",
       " {'name': 'Clown King',\n",
       "  'tagline': 'US Style Barley Wine.',\n",
       "  'abv': 12,\n",
       "  'ibu': 85},\n",
       " {'name': 'Rabiator',\n",
       "  'tagline': 'Imperial Wheat Beer',\n",
       "  'abv': 10.27,\n",
       "  'ibu': 26},\n",
       " {'name': 'AB:14',\n",
       "  'tagline': 'Oak-Aged Imperial Weizenbock.',\n",
       "  'abv': 10,\n",
       "  'ibu': 30},\n",
       " {'name': 'Lost Dog (w/Lost Abbey)',\n",
       "  'tagline': 'Rum-Aged Imperial Porter - Lost Abbey Collab.',\n",
       "  'abv': 10,\n",
       "  'ibu': 35},\n",
       " {'name': 'Hello My Name is Sonja (w/ Evil Twin)',\n",
       "  'tagline': 'Blueberry Double IPA.',\n",
       "  'abv': 8.3,\n",
       "  'ibu': 70},\n",
       " {'name': 'Hello My Name is Vladimir',\n",
       "  'tagline': 'Limonnik Infused Imperial IPA (Not for Gays).',\n",
       "  'abv': 8.2,\n",
       "  'ibu': 70},\n",
       " {'name': 'Hello My Name Is Beastie',\n",
       "  'tagline': 'Double IPA Brewed with Brambles.',\n",
       "  'abv': 8.2,\n",
       "  'ibu': 42},\n",
       " {'name': 'Riptide',\n",
       "  'tagline': 'Twisted Merciless Stout.',\n",
       "  'abv': 8,\n",
       "  'ibu': 45},\n",
       " {'name': 'Hops Kill Nazis',\n",
       "  'tagline': 'Imperial Red Ale.',\n",
       "  'abv': 7.6,\n",
       "  'ibu': 70},\n",
       " {'name': 'Bramling X',\n",
       "  'tagline': 'Single Hop IPA Series - 2011.',\n",
       "  'abv': 7.5,\n",
       "  'ibu': 75},\n",
       " {'name': 'Avery Brown Dredge',\n",
       "  'tagline': \"Bloggers' Imperial Pilsner.\",\n",
       "  'abv': 7.2,\n",
       "  'ibu': 59},\n",
       " {'name': 'Chinook - IPA Is Dead',\n",
       "  'tagline': 'Single Hop India Pale Ale.',\n",
       "  'abv': 7.2,\n",
       "  'ibu': 100},\n",
       " {'name': 'Dog Wired (w/8 Wired)',\n",
       "  'tagline': 'New Zealand Imperial Pilsner.',\n",
       "  'abv': 7.1,\n",
       "  'ibu': 65},\n",
       " {'name': 'Sunk Punk',\n",
       "  'tagline': 'Ocean Fermented Lager.',\n",
       "  'abv': 7.1,\n",
       "  'ibu': 68},\n",
       " {'name': 'Chaos Theory',\n",
       "  'tagline': 'Predictably Random IPA.',\n",
       "  'abv': 7.1,\n",
       "  'ibu': 90},\n",
       " {'name': 'HBC 369',\n",
       "  'tagline': 'Single Hop India Pale Ale – 2012.',\n",
       "  'abv': 6.7,\n",
       "  'ibu': 67},\n",
       " {'name': 'Dana - IPA Is Dead',\n",
       "  'tagline': 'Single Hop India Pale Ale.',\n",
       "  'abv': 6.7,\n",
       "  'ibu': 70},\n",
       " {'name': 'Motueka',\n",
       "  'tagline': 'Single Hop India Pale Ale – 2012.',\n",
       "  'abv': 6.7,\n",
       "  'ibu': 67},\n",
       " {'name': 'Challenger',\n",
       "  'tagline': 'Single Hop India Pale Ale – 2012.',\n",
       "  'abv': 6.7,\n",
       "  'ibu': 67},\n",
       " {'name': 'Sorachi Bitter - B-Sides',\n",
       "  'tagline': 'Sorachi Ace Bitter.',\n",
       "  'abv': 6.3,\n",
       "  'ibu': 130},\n",
       " {'name': 'Pumpkin King',\n",
       "  'tagline': 'Spicy Citrus Pumpkin Ale.',\n",
       "  'abv': 5.4,\n",
       "  'ibu': 20},\n",
       " {'name': 'Fake Lager', 'tagline': 'Bohemian Pilsner.', 'abv': 4.7, 'ibu': 40},\n",
       " {'name': 'Konnichiwa Kitsune',\n",
       "  'tagline': 'Hello My Name Is Yuzu.',\n",
       "  'abv': 4.4,\n",
       "  'ibu': 70}]"
      ]
     },
     "execution_count": 53,
     "metadata": {},
     "output_type": "execute_result"
    }
   ],
   "source": [
    "# New object sorted from higher to lower descending\n",
    "sorted_beers = sorted(beer_list, key=itemgetter('abv'), reverse=True)\n",
    "sorted_beers"
   ]
  },
  {
   "attachments": {},
   "cell_type": "markdown",
   "metadata": {},
   "source": [
    "List of dictioneries are incredably common in Python and other languages. \n",
    "\n",
    "Database tables and spreedsheets are often represented by list of dictioneries."
   ]
  },
  {
   "cell_type": "code",
   "execution_count": 56,
   "metadata": {},
   "outputs": [
    {
     "name": "stdout",
     "output_type": "stream",
     "text": [
      "Number of Beers is:  25\n"
     ]
    }
   ],
   "source": [
    "# How many diffrent kind of Beers?\n",
    "counter = 0\n",
    "for beer in beer_list:\n",
    "    counter += 1\n",
    "\n",
    "print(\"Number of Beers is: \", counter)"
   ]
  },
  {
   "cell_type": "code",
   "execution_count": 64,
   "metadata": {},
   "outputs": [
    {
     "data": {
      "text/plain": [
       "17"
      ]
     },
     "execution_count": 64,
     "metadata": {},
     "output_type": "execute_result"
    }
   ],
   "source": [
    "# How many total Beers over 5% adv\n",
    "N = float(input(\"Enter abv number : \"))\n",
    "beers_over_5 = [beer[\"name\"] for beer in beer_list if beer['abv'] >= N]\n",
    "len(beers_over_5)"
   ]
  }
 ],
 "metadata": {
  "kernelspec": {
   "display_name": "base",
   "language": "python",
   "name": "python3"
  },
  "language_info": {
   "codemirror_mode": {
    "name": "ipython",
    "version": 3
   },
   "file_extension": ".py",
   "mimetype": "text/x-python",
   "name": "python",
   "nbconvert_exporter": "python",
   "pygments_lexer": "ipython3",
   "version": "3.9.13"
  },
  "orig_nbformat": 4,
  "vscode": {
   "interpreter": {
    "hash": "b9ce3e782dc9b25b6590d31a4c28a7bebe510ea4e9792678eca06b761cedffad"
   }
  }
 },
 "nbformat": 4,
 "nbformat_minor": 2
}
