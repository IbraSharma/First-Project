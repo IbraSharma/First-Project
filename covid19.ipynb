{
 "cells": [
  {
   "attachments": {},
   "cell_type": "markdown",
   "metadata": {},
   "source": [
    "import json"
   ]
  },
  {
   "cell_type": "code",
   "execution_count": 1,
   "metadata": {},
   "outputs": [],
   "source": [
    "import json"
   ]
  },
  {
   "cell_type": "code",
   "execution_count": 54,
   "metadata": {},
   "outputs": [],
   "source": [
    "# import dataset\n",
    "f_path = \"data/covid.json\"\n",
    "with open(f_path, 'r') as f:\n",
    "    covid = json.load(f)"
   ]
  },
  {
   "cell_type": "code",
   "execution_count": 55,
   "metadata": {},
   "outputs": [
    {
     "data": {
      "text/plain": [
       "dict"
      ]
     },
     "execution_count": 55,
     "metadata": {},
     "output_type": "execute_result"
    }
   ],
   "source": [
    "type(covid)"
   ]
  },
  {
   "cell_type": "code",
   "execution_count": 56,
   "metadata": {},
   "outputs": [
    {
     "data": {
      "text/plain": [
       "dict_keys(['data'])"
      ]
     },
     "execution_count": 56,
     "metadata": {},
     "output_type": "execute_result"
    }
   ],
   "source": [
    "covid.keys()"
   ]
  },
  {
   "cell_type": "code",
   "execution_count": 59,
   "metadata": {},
   "outputs": [],
   "source": [
    "patients = covid['data']"
   ]
  },
  {
   "cell_type": "code",
   "execution_count": 60,
   "metadata": {},
   "outputs": [
    {
     "data": {
      "text/plain": [
       "{'#': 1,\n",
       " 'age': '19',\n",
       " 'Sleep_problems': 'yes',\n",
       " 'Headache': 'yes',\n",
       " 'Diarrhea': 'yes',\n",
       " 'Abdominal_pain': 'yes',\n",
       " 'body_pain': 'yes',\n",
       " 'Body_discoloration': 'no',\n",
       " 'Cough': 'no',\n",
       " 'Fever': 'no',\n",
       " 'Ague': 'no',\n",
       " 'Sore_throat': 'no',\n",
       " 'Fatigue': 'no',\n",
       " 'runny_nose': 'no',\n",
       " 'Chest_pain': 'no',\n",
       " 'Decreased_appetite': 'no',\n",
       " 'Vomit': 'no',\n",
       " 'Nausea': 'no',\n",
       " 'Sneezing': 'no',\n",
       " 'Shortness_of_breath': 'no',\n",
       " 'Loss_of_smell': 'no',\n",
       " 'Loss_of_taste': 'no',\n",
       " 'urticaria': 'no'}"
      ]
     },
     "execution_count": 60,
     "metadata": {},
     "output_type": "execute_result"
    }
   ],
   "source": [
    "patients[0]"
   ]
  },
  {
   "cell_type": "code",
   "execution_count": 64,
   "metadata": {},
   "outputs": [],
   "source": [
    "ages = [age['age'] for age in patients]"
   ]
  },
  {
   "cell_type": "code",
   "execution_count": 66,
   "metadata": {},
   "outputs": [
    {
     "data": {
      "text/plain": [
       "['19', '28', '40', '62', '23']"
      ]
     },
     "execution_count": 66,
     "metadata": {},
     "output_type": "execute_result"
    }
   ],
   "source": [
    "ages[:5]"
   ]
  },
  {
   "cell_type": "code",
   "execution_count": 6,
   "metadata": {},
   "outputs": [
    {
     "data": {
      "text/plain": [
       "487"
      ]
     },
     "execution_count": 6,
     "metadata": {},
     "output_type": "execute_result"
    }
   ],
   "source": [
    "# Total participants \n",
    "len(covid)"
   ]
  },
  {
   "cell_type": "code",
   "execution_count": 39,
   "metadata": {},
   "outputs": [
    {
     "data": {
      "text/plain": [
       "{'#': 1,\n",
       " 'age': '19',\n",
       " 'Sleep_problems': 'yes',\n",
       " 'Headache': 'yes',\n",
       " 'Diarrhea': 'yes',\n",
       " 'Abdominal_pain': 'yes',\n",
       " 'body_pain': 'yes',\n",
       " 'Body_discoloration': 'no',\n",
       " 'Cough': 'no',\n",
       " 'Fever': 'no',\n",
       " 'Ague': 'no',\n",
       " 'Sore_throat': 'no',\n",
       " 'Fatigue': 'no',\n",
       " 'runny_nose': 'no',\n",
       " 'Chest_pain': 'no',\n",
       " 'Decreased_appetite': 'no',\n",
       " 'Vomit': 'no',\n",
       " 'Nausea': 'no',\n",
       " 'Sneezing': 'no',\n",
       " 'Shortness_of_breath': 'no',\n",
       " 'Loss_of_smell': 'no',\n",
       " 'Loss_of_taste': 'no',\n",
       " 'urticaria': 'no'}"
      ]
     },
     "execution_count": 39,
     "metadata": {},
     "output_type": "execute_result"
    }
   ],
   "source": [
    "covid[0]"
   ]
  },
  {
   "cell_type": "code",
   "execution_count": 67,
   "metadata": {},
   "outputs": [
    {
     "data": {
      "text/plain": [
       "487"
      ]
     },
     "execution_count": 67,
     "metadata": {},
     "output_type": "execute_result"
    }
   ],
   "source": [
    "# How many patients in file\n",
    "len(patients)"
   ]
  },
  {
   "cell_type": "code",
   "execution_count": 102,
   "metadata": {},
   "outputs": [],
   "source": [
    "# extract age\n",
    "def extract_patients_age(patient):\n",
    "    patients_age = patient['age']\n",
    "    return patients_age"
   ]
  },
  {
   "cell_type": "code",
   "execution_count": 103,
   "metadata": {},
   "outputs": [
    {
     "data": {
      "text/plain": [
       "{'19': 3,\n",
       " '28': 5,\n",
       " '40': 3,\n",
       " '62': 2,\n",
       " '23': 8,\n",
       " '34': 3,\n",
       " '39': 4,\n",
       " '46': 3,\n",
       " '20': 4,\n",
       " '27': 5,\n",
       " '26': 4,\n",
       " '76': 2,\n",
       " '54': 1,\n",
       " '51': 4,\n",
       " '59': 1,\n",
       " '32': 3,\n",
       " '29': 1,\n",
       " '41': 2,\n",
       " '18': 3,\n",
       " '48': 2,\n",
       " '-': 359,\n",
       " '45': 6,\n",
       " '2': 1,\n",
       " '85': 1,\n",
       " '95': 1,\n",
       " '55': 2,\n",
       " '37': 3,\n",
       " '67': 1,\n",
       " '49': 2,\n",
       " '56': 3,\n",
       " '44': 2,\n",
       " '52': 2,\n",
       " '43': 2,\n",
       " '25': 6,\n",
       " '22': 5,\n",
       " '35': 3,\n",
       " '33': 3,\n",
       " '30': 5,\n",
       " '31': 2,\n",
       " '15': 1,\n",
       " '36': 3,\n",
       " '57': 1,\n",
       " '17': 2,\n",
       " '68': 1,\n",
       " '50': 2,\n",
       " '3': 1,\n",
       " '10': 1,\n",
       " '14': 1,\n",
       " '70': 2}"
      ]
     },
     "execution_count": 103,
     "metadata": {},
     "output_type": "execute_result"
    }
   ],
   "source": [
    "# How many patients in each age\n",
    "my_age_dict = {}\n",
    "for patient in covid['data']:\n",
    "    patients_age = extract_patients_age(patient)\n",
    "    if patients_age not in my_age_dict:\n",
    "        my_age_dict[patients_age] = 0 # if first time appear so count from 0 \n",
    "    my_age_dict[patients_age] +=1\n",
    "\n",
    "my_age_dict"
   ]
  },
  {
   "cell_type": "code",
   "execution_count": 96,
   "metadata": {},
   "outputs": [],
   "source": [
    "# # How many Sleep_problems are there?\n",
    "def is_sleep_problmes(patient):\n",
    "    return patient['Sleep_problems']==\"yes\""
   ]
  },
  {
   "cell_type": "code",
   "execution_count": 97,
   "metadata": {},
   "outputs": [
    {
     "data": {
      "text/plain": [
       "True"
      ]
     },
     "execution_count": 97,
     "metadata": {},
     "output_type": "execute_result"
    }
   ],
   "source": [
    "is_sleep_problmes(patient=covid['data'][1])"
   ]
  },
  {
   "cell_type": "code",
   "execution_count": 98,
   "metadata": {},
   "outputs": [
    {
     "name": "stdout",
     "output_type": "stream",
     "text": [
      "51\n"
     ]
    }
   ],
   "source": [
    "counter = 0\n",
    "for patient in covid['data']:\n",
    "    if is_sleep_problmes(patient): # True/False\n",
    "        counter+=1\n",
    "print(counter)"
   ]
  },
  {
   "cell_type": "code",
   "execution_count": 115,
   "metadata": {},
   "outputs": [
    {
     "data": {
      "text/plain": [
       "51"
      ]
     },
     "execution_count": 115,
     "metadata": {},
     "output_type": "execute_result"
    }
   ],
   "source": [
    "# List comprehension\n",
    "len([patient for patient in covid['data'] if is_sleep_problmes(patient)])"
   ]
  },
  {
   "cell_type": "code",
   "execution_count": 99,
   "metadata": {},
   "outputs": [],
   "source": [
    "#  How many Fever are there?\n",
    "def is_Fever(patient):\n",
    "    return patient['Fever']==\"yes\""
   ]
  },
  {
   "cell_type": "code",
   "execution_count": 100,
   "metadata": {},
   "outputs": [
    {
     "name": "stdout",
     "output_type": "stream",
     "text": [
      "282\n"
     ]
    }
   ],
   "source": [
    "counter = 0\n",
    "for patient in covid['data']:\n",
    "    if is_Fever(patient): # True/False\n",
    "        counter+=1\n",
    "print(counter)"
   ]
  },
  {
   "cell_type": "code",
   "execution_count": 116,
   "metadata": {},
   "outputs": [
    {
     "data": {
      "text/plain": [
       "282"
      ]
     },
     "execution_count": 116,
     "metadata": {},
     "output_type": "execute_result"
    }
   ],
   "source": [
    "# List comprehension\n",
    "len([patient for patient in covid['data'] if is_Fever(patient)])"
   ]
  },
  {
   "cell_type": "code",
   "execution_count": 126,
   "metadata": {},
   "outputs": [
    {
     "data": {
      "text/plain": [
       "22"
      ]
     },
     "execution_count": 126,
     "metadata": {},
     "output_type": "execute_result"
    }
   ],
   "source": [
    "# # List comprehension is_sleep_problmes and is_Fever\n",
    "len([patient for patient in covid['data'] if is_sleep_problmes(patient) and is_Fever(patient)])"
   ]
  },
  {
   "cell_type": "code",
   "execution_count": 110,
   "metadata": {},
   "outputs": [],
   "source": [
    "# extract patient\n",
    "def extract_patient_number(patient):\n",
    "    patient_number = patient['#']\n",
    "    return patient_number"
   ]
  },
  {
   "cell_type": "code",
   "execution_count": 112,
   "metadata": {},
   "outputs": [
    {
     "data": {
      "text/plain": [
       "4"
      ]
     },
     "execution_count": 112,
     "metadata": {},
     "output_type": "execute_result"
    }
   ],
   "source": [
    "extract_patient_number(patient=covid['data'][3])"
   ]
  },
  {
   "cell_type": "code",
   "execution_count": 114,
   "metadata": {},
   "outputs": [
    {
     "data": {
      "text/plain": [
       "False"
      ]
     },
     "execution_count": 114,
     "metadata": {},
     "output_type": "execute_result"
    }
   ],
   "source": [
    "def extract_patient_number(patient):\n",
    "    patient_number = patient['#']\n",
    "    return patient_number\n",
    "\n",
    "def is_sleep_problmes(patient):\n",
    "    return patient['Sleep_problems']==\"yes\"\n",
    "\n",
    "is_sleep_problmes(patient=covid['data'][2])"
   ]
  }
 ],
 "metadata": {
  "kernelspec": {
   "display_name": "base",
   "language": "python",
   "name": "python3"
  },
  "language_info": {
   "codemirror_mode": {
    "name": "ipython",
    "version": 3
   },
   "file_extension": ".py",
   "mimetype": "text/x-python",
   "name": "python",
   "nbconvert_exporter": "python",
   "pygments_lexer": "ipython3",
   "version": "3.9.13"
  },
  "orig_nbformat": 4,
  "vscode": {
   "interpreter": {
    "hash": "b9ce3e782dc9b25b6590d31a4c28a7bebe510ea4e9792678eca06b761cedffad"
   }
  }
 },
 "nbformat": 4,
 "nbformat_minor": 2
}
